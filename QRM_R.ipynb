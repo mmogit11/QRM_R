{
 "cells": [
  {
   "cell_type": "markdown",
   "id": "bff41a80-49f4-46b5-b4a2-afb6465e00db",
   "metadata": {},
   "source": [
    "# Quantitative Risk management (Market Risk) in R"
   ]
  },
  {
   "cell_type": "markdown",
   "id": "6b6f4ee1-b0c3-488a-8838-85fb6aa66a72",
   "metadata": {},
   "source": []
  },
  {
   "cell_type": "markdown",
   "id": "ba879273-458b-4d81-8cd8-a6e89c8b1552",
   "metadata": {},
   "source": [
    "## Understanding Value-at-Risk (VaR)\n",
    "\n",
    "Value-at-Risk (VaR) measures the potential loss in value of a financial asset or portfolio over a given time frame, with a specified confidence level.\n",
    "\n",
    "Let $F(x)$ represent the cumulative distribution function of a random variable $ X $, which models asset returns. Given a confidence level $ q $ (e.g., $ q = 0.99 $), the VaR at level $ q $ is defined as the smallest value $ x_q $ such that:\n",
    "\n",
    "$$\n",
    "P(X \\leq x_q) = F(x_q) \\geq q\n",
    "$$\n",
    "\n",
    "so $ \\text{VaR}_q(X) $ is:\n",
    "\n",
    "$$\n",
    "\\text{VaR}_q(X) = x_q = \\inf \\{ x \\in \\mathbb{R} : F(x) \\geq q \\}\n",
    "$$\n",
    "\n",
    "This means that with probability $ q $, the loss will not exceed $ x_q $ or with probability $ (1-q) $, the loss will exceed $ x_q $.\n",
    "\n",
    "For a continuous and strictly increasing $ F(x) $, the VaR simplifies to the inverse function:\n",
    "\n",
    "$$\n",
    "\\text{VaR}_q(X) = F^{-1}(q)\n",
    "$$\n",
    "\n",
    "In other words, VaR at level $ q $ corresponds to the $ q $-quantile of $ X $, representing the threshold below which losses occur with probability $ q $.\n"
   ]
  },
  {
   "cell_type": "markdown",
   "id": "58ea56b3-a0c5-4cd3-b4f8-5f878db49e67",
   "metadata": {},
   "source": [
    "## Limitations of Value-at-Risk (VaR)\n",
    "\n",
    "While widely used in risk management, **Value-at-Risk (VaR) is not a coherent risk measure** because it does not always satisfy the **subadditivity property**, which ensures diversification benefits.\n",
    "\n",
    "The subadditivity condition states that for any two financial positions, $X$ and $Y$:\n",
    "\n",
    "$$\n",
    "\\rho(X + Y) \\leq \\rho(X) + \\rho(Y)\n",
    "$$\n",
    "\n",
    "This property implies that merging two portfolios should not increase overall risk. However, **VaR can fail to meet this requirement**, making it a less reliable measure of total risk in certain cases.\n",
    "\n",
    "The **subadditivity principle** reflects the idea that **diversification reduces risk**. In other words, the total risk of a combined portfolio should not exceed the sum of the individual risks:\n",
    "\n",
    "- A well-diversified portfolio **spreads risk**, making it safer than simply adding up the risks of separate assets.  \n",
    "- If a risk measure violates subadditivity, it suggests that diversification **fails to reduce** overall risk, contradicting a fundamental principle of modern finance.  \n",
    "\n"
   ]
  },
  {
   "cell_type": "markdown",
   "id": "1d722d11-8289-42b4-b410-7dca81a72e41",
   "metadata": {},
   "source": [
    "## Expected Shortfall (ES)\n",
    "\n",
    "**Expected Shortfall (ES)**, also known as **Conditional VaR (CVaR)**, provides a more comprehensive measure of extreme losses compared to Value-at-Risk (VaR). Instead of focusing on a single quantile, ES captures the **average loss in the worst-case scenarios** beyond a given confidence level.\n",
    "\n",
    "\n",
    "For a confidence level $q$, the expected shortfall is defined as:\n",
    "\n",
    "$$\n",
    "ES_q = \\frac{1}{1 - q} \\int_q^1 \\text{VaR}_u(X) \\, du\n",
    "$$\n",
    "\n",
    "This represents the **average VaR** over all levels $u \\geq q$.\n",
    "\n",
    "For a **continuous loss distribution**, ES can also be expressed as:\n",
    "\n",
    "$$\n",
    "ES_q = E[X \\mid X > x_q]\n",
    "$$\n",
    "\n",
    "This means that ES is the **expected loss given that losses exceed the VaR threshold** at level $q$.\n",
    "\n",
    "Unlike VaR, **Expected Shortfall is a coherent risk measure**, meaning it satisfies all desirable properties of a risk measure, including **subadditivity**. This makes ES a more reliable tool for assessing financial risk, especially in extreme market conditions.\n"
   ]
  },
  {
   "cell_type": "markdown",
   "id": "4b386c41-7b3e-4b0a-a6f7-7524825c6aeb",
   "metadata": {},
   "source": [
    "### Value-at-Risk (VaR) and Expected Shortfall (ES) for Normal Distribution\n",
    "\n",
    "Let $ X \\sim N(\\mu, \\sigma^2) $, a normally distributed random variable with mean $ \\mu $ and variance $ \\sigma^2 $.\n",
    "\n",
    "- **Value-at-Risk (VaR)** at confidence level $ q $ is given by:\n",
    "\n",
    "  $$\n",
    "  \\text{VaR}_q(X) = \\mu + \\sigma \\Phi^{-1}(q)\n",
    "  $$\n",
    "\n",
    "  where $ \\Phi^{-1}(q) $ is the **quantile function** of the standard normal distribution.\n",
    "\n",
    "- **Expected Shortfall (ES)** at confidence level $ q $ is given by:\n",
    "\n",
    "  $$\n",
    "  \\text{ES}_q = \\mu + \\sigma \\frac{\\phi(\\Phi^{-1}(q))}{1 - q}\n",
    "  $$\n",
    "\n",
    "  where $ \\phi(\\cdot) $ is the **probability density function (PDF)** of the standard normal distribution, and $ \\Phi^{-1}(q) $ is the quantile of the standard normal.\n"
   ]
  },
  {
   "cell_type": "markdown",
   "id": "e6bfd5a8-584b-4607-a493-0864703ff10e",
   "metadata": {},
   "source": [
    "### Value-at-Risk (VaR) and Expected Shortfall (ES) for a Student-t Distribution\n",
    "\n",
    "Let $ X $ be a random variable such that $ \\frac{X - \\mu}{\\sigma} \\sim t_\\nu $, where $ t_\\nu $ represents\n",
    "the **Student's t-distribution** with $ \\nu $ degrees of freedom $( \\nu > 1 $).\n",
    "\n",
    "- The **Value-at-Risk (VaR)** at confidence level \\( q \\) is:\n",
    "\n",
    "  $$\n",
    "  \\text{VaR}_q(X) = \\mu + \\sigma t_{\\nu-1}^{-1}(q)\n",
    "  $$\n",
    "\n",
    "  where $ t_{\\nu-1}^{-1}(q) $ is the **quantile function** of the **Student's t-distribution** with $ \\nu-1 $ degrees of freedom.\n",
    "\n",
    "- The **Expected Shortfall (ES)** at confidence level $ q $ is:\n",
    "\n",
    "  $$\n",
    "  \\text{ES}_q = \\mu + \\sigma \\frac{g_{\\nu}(t_{\\nu-1}^{-1}(q))}{1 - q} \\frac {\\nu + (t_{\\nu-1}^{-1}(q))^2 }{\\nu - 1}\n",
    "  $$\n",
    "\n",
    "  where $ g_{\\nu} $ is the **Probability Density Function** of the **Student's t-distribution** with $ \\nu $ degrees of freedom, and $ t_{\\nu-1}^{-1}(q) $ is the quantile at confidence level $ q $.\n"
   ]
  },
  {
   "cell_type": "markdown",
   "id": "04c70777-47a9-40ba-8a46-2762f5c9b721",
   "metadata": {},
   "source": [
    "## Calculating VaR and ES for Different Confidence Levels\n",
    "\n",
    "We will calculate **Value-at-Risk (VaR)** and **Expected Shortfall (ES)** at different confidence levels, $\\alpha = 0.9$, $\\alpha = 0.99$, and $\\alpha = 0.999$, for two distributions:\n",
    "\n",
    "1. **Standard Normal Distribution** $N(0, 1)$  \n",
    "2. **Student's t-distribution with 4 degrees of freedom** $t_4$, where the mean ($\\mu$) = 0 and variance ($\\sigma^2$) = 1\n",
    "\n",
    "- For both distributions, **mean** ($\\mu$) = 0\n",
    "- **Variance** ($\\sigma^2$) = 1 for both the Normal and the $t_4$ distribution\n",
    "\n",
    "We'll compute **VaR** and **ES** for the given confidence levels for both distributions.\n"
   ]
  },
  {
   "cell_type": "markdown",
   "id": "fc9e2d29-83b0-4d29-9214-860ddf581161",
   "metadata": {},
   "source": [
    "\n",
    "### 1. Value-at-Risk (VaR) for normal distribution:\n",
    "VaR at the confidence level $\\alpha$ is calculated using the **quantile function** of the normal distribution. Note that quantile function is the **inverse cumulative distribution function** and recall that $ \\text{VaR}_q(X) = F^{-1}(q) $.\n",
    "\n",
    "```r\n",
    "alpha <- c(0.9, 0.99, 0.999)\n",
    "\n",
    "# Calculate VaR using quantile function\n",
    "qnorm(alpha)\n",
    "\n",
    "# Alternatively, using VaR_t function in the qrmtoolsd package:\n",
    "#install.pckages(\"qrmtools\")\n",
    "library(qrmtools)\n",
    "VaR_t(alpha, loc = 0, scale = 1, df = Inf)\n",
    "# In this case, loc is μ (mean), scale is σ (standard deviation), df is the degrees of freedom (∞ for normal distribution)"
   ]
  },
  {
   "cell_type": "code",
   "execution_count": 124,
   "id": "66d538c3-3db0-478b-9f1a-c9af07d565ed",
   "metadata": {},
   "outputs": [
    {
     "data": {
      "text/html": [
       "<style>\n",
       ".list-inline {list-style: none; margin:0; padding: 0}\n",
       ".list-inline>li {display: inline-block}\n",
       ".list-inline>li:not(:last-child)::after {content: \"\\00b7\"; padding: 0 .5ex}\n",
       "</style>\n",
       "<ol class=list-inline><li>1.2815515655446</li><li>2.32634787404084</li><li>3.09023230616781</li></ol>\n"
      ],
      "text/latex": [
       "\\begin{enumerate*}\n",
       "\\item 1.2815515655446\n",
       "\\item 2.32634787404084\n",
       "\\item 3.09023230616781\n",
       "\\end{enumerate*}\n"
      ],
      "text/markdown": [
       "1. 1.2815515655446\n",
       "2. 2.32634787404084\n",
       "3. 3.09023230616781\n",
       "\n",
       "\n"
      ],
      "text/plain": [
       "[1] 1.281552 2.326348 3.090232"
      ]
     },
     "metadata": {},
     "output_type": "display_data"
    },
    {
     "data": {
      "text/html": [
       "<style>\n",
       ".list-inline {list-style: none; margin:0; padding: 0}\n",
       ".list-inline>li {display: inline-block}\n",
       ".list-inline>li:not(:last-child)::after {content: \"\\00b7\"; padding: 0 .5ex}\n",
       "</style>\n",
       "<ol class=list-inline><li>1.2815515655446</li><li>2.32634787404084</li><li>3.09023230616781</li></ol>\n"
      ],
      "text/latex": [
       "\\begin{enumerate*}\n",
       "\\item 1.2815515655446\n",
       "\\item 2.32634787404084\n",
       "\\item 3.09023230616781\n",
       "\\end{enumerate*}\n"
      ],
      "text/markdown": [
       "1. 1.2815515655446\n",
       "2. 2.32634787404084\n",
       "3. 3.09023230616781\n",
       "\n",
       "\n"
      ],
      "text/plain": [
       "[1] 1.281552 2.326348 3.090232"
      ]
     },
     "metadata": {},
     "output_type": "display_data"
    }
   ],
   "source": [
    "alpha <- c(0.9, 0.99, 0.999)\n",
    "qnorm(alpha)\n",
    "library(qrmtools)\n",
    "VaR_t(alpha, loc = 0, scale = 1, df = Inf)"
   ]
  },
  {
   "cell_type": "markdown",
   "id": "83458ed4-d1f0-4d3e-acc7-f43f343035e8",
   "metadata": {},
   "source": [
    "The quantile (1.28155) means that there's a 10% chance the loss will exceed 1.28155, or in simpler terms, there’s a 10% chance that returns will be worse than -1.28155."
   ]
  },
  {
   "cell_type": "markdown",
   "id": "2f9b76ed-9298-404e-9d4e-84bcb62bae17",
   "metadata": {},
   "source": [
    "### 2. Expected Shortfall (ES) for the Normal distribution:\n",
    "\n",
    "Calculate ES using the PDF of the Normal distribution:\n",
    "For each alpha value, compute the density at the quantile point, then divide by (1 - alpha)\n",
    "``` r\n",
    "dnorm(qnorm(alpha)) / (1 - alpha)\n",
    "\n",
    "# Alternatively, using the ES_t function from the qrmtools package:\n",
    "library(qrmtools)\n",
    "ES_t(alpha, loc = 0, scale = 1, df = Inf)\n",
    "\n"
   ]
  },
  {
   "cell_type": "code",
   "execution_count": 81,
   "id": "64080386-d8d7-4804-9476-215f2de37fa7",
   "metadata": {},
   "outputs": [
    {
     "data": {
      "text/html": [
       "<style>\n",
       ".list-inline {list-style: none; margin:0; padding: 0}\n",
       ".list-inline>li {display: inline-block}\n",
       ".list-inline>li:not(:last-child)::after {content: \"\\00b7\"; padding: 0 .5ex}\n",
       "</style>\n",
       "<ol class=list-inline><li>1.75498331932487</li><li>2.66521422034581</li><li>3.36709007706399</li></ol>\n"
      ],
      "text/latex": [
       "\\begin{enumerate*}\n",
       "\\item 1.75498331932487\n",
       "\\item 2.66521422034581\n",
       "\\item 3.36709007706399\n",
       "\\end{enumerate*}\n"
      ],
      "text/markdown": [
       "1. 1.75498331932487\n",
       "2. 2.66521422034581\n",
       "3. 3.36709007706399\n",
       "\n",
       "\n"
      ],
      "text/plain": [
       "[1] 1.754983 2.665214 3.367090"
      ]
     },
     "metadata": {},
     "output_type": "display_data"
    },
    {
     "data": {
      "text/html": [
       "<style>\n",
       ".list-inline {list-style: none; margin:0; padding: 0}\n",
       ".list-inline>li {display: inline-block}\n",
       ".list-inline>li:not(:last-child)::after {content: \"\\00b7\"; padding: 0 .5ex}\n",
       "</style>\n",
       "<ol class=list-inline><li>1.75498331932487</li><li>2.66521422034581</li><li>3.36709007706399</li></ol>\n"
      ],
      "text/latex": [
       "\\begin{enumerate*}\n",
       "\\item 1.75498331932487\n",
       "\\item 2.66521422034581\n",
       "\\item 3.36709007706399\n",
       "\\end{enumerate*}\n"
      ],
      "text/markdown": [
       "1. 1.75498331932487\n",
       "2. 2.66521422034581\n",
       "3. 3.36709007706399\n",
       "\n",
       "\n"
      ],
      "text/plain": [
       "[1] 1.754983 2.665214 3.367090"
      ]
     },
     "metadata": {},
     "output_type": "display_data"
    }
   ],
   "source": [
    "dnorm(qnorm(alpha)) / (1 - alpha)\n",
    "library(qrmtools)\n",
    "ES_t(alpha, loc = 0, scale = 1, df = Inf)"
   ]
  },
  {
   "cell_type": "markdown",
   "id": "ec917bc5-3c3f-4806-bda9-4423ca30cd8b",
   "metadata": {},
   "source": [
    "The quantile (1.75498) means that there's a 10% chance the loss will exceed 1.28155, or in simpler terms, there’s a 10% chance that returns will be worse than -1.28155."
   ]
  },
  {
   "cell_type": "markdown",
   "id": "fe9c3c97-c3f5-47ae-836e-1f1fd863a0c7",
   "metadata": {},
   "source": [
    "### 3. Value-at-Risk (VaR) for student's t-distribution with df = 4:\n",
    "\n",
    "``` r\n",
    "nu <- 4\n",
    "# Calculate VaR using quantile function\n",
    "qt(alpha, df = nu)\n",
    "# Alternatively, using VaR_t function in the qrmtoolsd package:\n",
    "VaR_t(alpha, loc = 0, scale = 1, df = nu)\n",
    "\n"
   ]
  },
  {
   "cell_type": "code",
   "execution_count": 164,
   "id": "6a222c59-6bef-49d9-a568-d184fdb901ec",
   "metadata": {},
   "outputs": [
    {
     "data": {
      "text/html": [
       "<style>\n",
       ".list-inline {list-style: none; margin:0; padding: 0}\n",
       ".list-inline>li {display: inline-block}\n",
       ".list-inline>li:not(:last-child)::after {content: \"\\00b7\"; padding: 0 .5ex}\n",
       "</style>\n",
       "<ol class=list-inline><li>1.53320627405894</li><li>3.7469473879792</li><li>7.17318221978231</li></ol>\n"
      ],
      "text/latex": [
       "\\begin{enumerate*}\n",
       "\\item 1.53320627405894\n",
       "\\item 3.7469473879792\n",
       "\\item 7.17318221978231\n",
       "\\end{enumerate*}\n"
      ],
      "text/markdown": [
       "1. 1.53320627405894\n",
       "2. 3.7469473879792\n",
       "3. 7.17318221978231\n",
       "\n",
       "\n"
      ],
      "text/plain": [
       "[1] 1.533206 3.746947 7.173182"
      ]
     },
     "metadata": {},
     "output_type": "display_data"
    },
    {
     "data": {
      "text/html": [
       "<style>\n",
       ".list-inline {list-style: none; margin:0; padding: 0}\n",
       ".list-inline>li {display: inline-block}\n",
       ".list-inline>li:not(:last-child)::after {content: \"\\00b7\"; padding: 0 .5ex}\n",
       "</style>\n",
       "<ol class=list-inline><li>1.53320627405894</li><li>3.7469473879792</li><li>7.17318221978231</li></ol>\n"
      ],
      "text/latex": [
       "\\begin{enumerate*}\n",
       "\\item 1.53320627405894\n",
       "\\item 3.7469473879792\n",
       "\\item 7.17318221978231\n",
       "\\end{enumerate*}\n"
      ],
      "text/markdown": [
       "1. 1.53320627405894\n",
       "2. 3.7469473879792\n",
       "3. 7.17318221978231\n",
       "\n",
       "\n"
      ],
      "text/plain": [
       "[1] 1.533206 3.746947 7.173182"
      ]
     },
     "metadata": {},
     "output_type": "display_data"
    }
   ],
   "source": [
    "nu <- 4\n",
    "qt(alpha, df = nu)\n",
    "VaR_t(alpha, loc = 0, scale = 1, df = nu)"
   ]
  },
  {
   "cell_type": "markdown",
   "id": "7a6650b9-4692-44f4-94ed-eaec99bc1b5e",
   "metadata": {},
   "source": [
    "### 4. Expected Shortfall (ES) for the student's t-distribution with df = 4:\n",
    "\n",
    "\n",
    "``` r\n",
    "( dt(qt(alpha, nu), nu)/(1-alpha) )*( (nu + (qt(alpha, nu))^2)/(nu-1) )\n",
    "\n",
    "# Alternatively, using the ES_t function from the qrmtools package:\n",
    "library(qrmtools)\n",
    "ES_t(alpha, loc = 0, scale = 1, df = nu)\n"
   ]
  },
  {
   "cell_type": "code",
   "execution_count": 182,
   "id": "62c9b741-a2ea-468d-857b-badf6764558b",
   "metadata": {},
   "outputs": [
    {
     "data": {
      "text/html": [
       "<style>\n",
       ".list-inline {list-style: none; margin:0; padding: 0}\n",
       ".list-inline>li {display: inline-block}\n",
       ".list-inline>li:not(:last-child)::after {content: \"\\00b7\"; padding: 0 .5ex}\n",
       "</style>\n",
       "<ol class=list-inline><li>2.49934029830115</li><li>5.22058419449222</li><li>9.68621921294995</li></ol>\n"
      ],
      "text/latex": [
       "\\begin{enumerate*}\n",
       "\\item 2.49934029830115\n",
       "\\item 5.22058419449222\n",
       "\\item 9.68621921294995\n",
       "\\end{enumerate*}\n"
      ],
      "text/markdown": [
       "1. 2.49934029830115\n",
       "2. 5.22058419449222\n",
       "3. 9.68621921294995\n",
       "\n",
       "\n"
      ],
      "text/plain": [
       "[1] 2.499340 5.220584 9.686219"
      ]
     },
     "metadata": {},
     "output_type": "display_data"
    },
    {
     "data": {
      "text/html": [
       "<style>\n",
       ".list-inline {list-style: none; margin:0; padding: 0}\n",
       ".list-inline>li {display: inline-block}\n",
       ".list-inline>li:not(:last-child)::after {content: \"\\00b7\"; padding: 0 .5ex}\n",
       "</style>\n",
       "<ol class=list-inline><li>2.49934029830115</li><li>5.22058419449222</li><li>9.68621921294995</li></ol>\n"
      ],
      "text/latex": [
       "\\begin{enumerate*}\n",
       "\\item 2.49934029830115\n",
       "\\item 5.22058419449222\n",
       "\\item 9.68621921294995\n",
       "\\end{enumerate*}\n"
      ],
      "text/markdown": [
       "1. 2.49934029830115\n",
       "2. 5.22058419449222\n",
       "3. 9.68621921294995\n",
       "\n",
       "\n"
      ],
      "text/plain": [
       "[1] 2.499340 5.220584 9.686219"
      ]
     },
     "metadata": {},
     "output_type": "display_data"
    }
   ],
   "source": [
    "( dt(qt(alpha, nu), nu)/(1-alpha) )*( (nu + (qt(alpha, nu))^2)/(nu-1) )\n",
    "ES_t(alpha, loc = 0, scale = 1, df = nu)"
   ]
  },
  {
   "cell_type": "markdown",
   "id": "23c5526d-5384-4ee8-b85a-0da398652555",
   "metadata": {},
   "source": [
    "Observe how VaR and ES evolve as the degrees of freedom increase, leading to thinner tails in the distribution."
   ]
  },
  {
   "cell_type": "code",
   "execution_count": 188,
   "id": "cd4f0e4b-49c7-4a8e-8d78-5dbdeb20da41",
   "metadata": {},
   "outputs": [
    {
     "data": {
      "text/html": [
       "<style>\n",
       ".list-inline {list-style: none; margin:0; padding: 0}\n",
       ".list-inline>li {display: inline-block}\n",
       ".list-inline>li:not(:last-child)::after {content: \"\\00b7\"; padding: 0 .5ex}\n",
       "</style>\n",
       "<ol class=list-inline><li>3.07768353717525</li><li>31.8205159537739</li><li>318.30883898555</li></ol>\n"
      ],
      "text/latex": [
       "\\begin{enumerate*}\n",
       "\\item 3.07768353717525\n",
       "\\item 31.8205159537739\n",
       "\\item 318.30883898555\n",
       "\\end{enumerate*}\n"
      ],
      "text/markdown": [
       "1. 3.07768353717525\n",
       "2. 31.8205159537739\n",
       "3. 318.30883898555\n",
       "\n",
       "\n"
      ],
      "text/plain": [
       "[1]   3.077684  31.820516 318.308839"
      ]
     },
     "metadata": {},
     "output_type": "display_data"
    },
    {
     "data": {
      "text/html": [
       "<style>\n",
       ".list-inline {list-style: none; margin:0; padding: 0}\n",
       ".list-inline>li {display: inline-block}\n",
       ".list-inline>li:not(:last-child)::after {content: \"\\00b7\"; padding: 0 .5ex}\n",
       "</style>\n",
       "<ol class=list-inline><li>Inf</li><li>Inf</li><li>Inf</li></ol>\n"
      ],
      "text/latex": [
       "\\begin{enumerate*}\n",
       "\\item Inf\n",
       "\\item Inf\n",
       "\\item Inf\n",
       "\\end{enumerate*}\n"
      ],
      "text/markdown": [
       "1. Inf\n",
       "2. Inf\n",
       "3. Inf\n",
       "\n",
       "\n"
      ],
      "text/plain": [
       "[1] Inf Inf Inf"
      ]
     },
     "metadata": {},
     "output_type": "display_data"
    },
    {
     "data": {
      "text/html": [
       "<style>\n",
       ".list-inline {list-style: none; margin:0; padding: 0}\n",
       ".list-inline>li {display: inline-block}\n",
       ".list-inline>li:not(:last-child)::after {content: \"\\00b7\"; padding: 0 .5ex}\n",
       "</style>\n",
       "<ol class=list-inline><li>1.88561808316413</li><li>6.96455673428327</li><li>22.3271247701199</li></ol>\n"
      ],
      "text/latex": [
       "\\begin{enumerate*}\n",
       "\\item 1.88561808316413\n",
       "\\item 6.96455673428327\n",
       "\\item 22.3271247701199\n",
       "\\end{enumerate*}\n"
      ],
      "text/markdown": [
       "1. 1.88561808316413\n",
       "2. 6.96455673428327\n",
       "3. 22.3271247701199\n",
       "\n",
       "\n"
      ],
      "text/plain": [
       "[1]  1.885618  6.964557 22.327125"
      ]
     },
     "metadata": {},
     "output_type": "display_data"
    },
    {
     "data": {
      "text/html": [
       "<style>\n",
       ".list-inline {list-style: none; margin:0; padding: 0}\n",
       ".list-inline>li {display: inline-block}\n",
       ".list-inline>li:not(:last-child)::after {content: \"\\00b7\"; padding: 0 .5ex}\n",
       "</style>\n",
       "<ol class=list-inline><li>4.24264068711929</li><li>14.0712472794703</li><li>44.698993277254</li></ol>\n"
      ],
      "text/latex": [
       "\\begin{enumerate*}\n",
       "\\item 4.24264068711929\n",
       "\\item 14.0712472794703\n",
       "\\item 44.698993277254\n",
       "\\end{enumerate*}\n"
      ],
      "text/markdown": [
       "1. 4.24264068711929\n",
       "2. 14.0712472794703\n",
       "3. 44.698993277254\n",
       "\n",
       "\n"
      ],
      "text/plain": [
       "[1]  4.242641 14.071247 44.698993"
      ]
     },
     "metadata": {},
     "output_type": "display_data"
    },
    {
     "data": {
      "text/html": [
       "<style>\n",
       ".list-inline {list-style: none; margin:0; padding: 0}\n",
       ".list-inline>li {display: inline-block}\n",
       ".list-inline>li:not(:last-child)::after {content: \"\\00b7\"; padding: 0 .5ex}\n",
       "</style>\n",
       "<ol class=list-inline><li>1.32534070698505</li><li>2.52797700274157</li><li>3.55180834320333</li></ol>\n"
      ],
      "text/latex": [
       "\\begin{enumerate*}\n",
       "\\item 1.32534070698505\n",
       "\\item 2.52797700274157\n",
       "\\item 3.55180834320333\n",
       "\\end{enumerate*}\n"
      ],
      "text/markdown": [
       "1. 1.32534070698505\n",
       "2. 2.52797700274157\n",
       "3. 3.55180834320333\n",
       "\n",
       "\n"
      ],
      "text/plain": [
       "[1] 1.325341 2.527977 3.551808"
      ]
     },
     "metadata": {},
     "output_type": "display_data"
    },
    {
     "data": {
      "text/html": [
       "<style>\n",
       ".list-inline {list-style: none; margin:0; padding: 0}\n",
       ".list-inline>li {display: inline-block}\n",
       ".list-inline>li:not(:last-child)::after {content: \"\\00b7\"; padding: 0 .5ex}\n",
       "</style>\n",
       "<ol class=list-inline><li>1.8639913416091</li><li>2.97691473545211</li><li>3.9814065765162</li></ol>\n"
      ],
      "text/latex": [
       "\\begin{enumerate*}\n",
       "\\item 1.8639913416091\n",
       "\\item 2.97691473545211\n",
       "\\item 3.9814065765162\n",
       "\\end{enumerate*}\n"
      ],
      "text/markdown": [
       "1. 1.8639913416091\n",
       "2. 2.97691473545211\n",
       "3. 3.9814065765162\n",
       "\n",
       "\n"
      ],
      "text/plain": [
       "[1] 1.863991 2.976915 3.981407"
      ]
     },
     "metadata": {},
     "output_type": "display_data"
    },
    {
     "data": {
      "text/html": [
       "<style>\n",
       ".list-inline {list-style: none; margin:0; padding: 0}\n",
       ".list-inline>li {display: inline-block}\n",
       ".list-inline>li:not(:last-child)::after {content: \"\\00b7\"; padding: 0 .5ex}\n",
       "</style>\n",
       "<ol class=list-inline><li>1.2815515655446</li><li>2.32634787404084</li><li>3.09023230616781</li></ol>\n"
      ],
      "text/latex": [
       "\\begin{enumerate*}\n",
       "\\item 1.2815515655446\n",
       "\\item 2.32634787404084\n",
       "\\item 3.09023230616781\n",
       "\\end{enumerate*}\n"
      ],
      "text/markdown": [
       "1. 1.2815515655446\n",
       "2. 2.32634787404084\n",
       "3. 3.09023230616781\n",
       "\n",
       "\n"
      ],
      "text/plain": [
       "[1] 1.281552 2.326348 3.090232"
      ]
     },
     "metadata": {},
     "output_type": "display_data"
    },
    {
     "data": {
      "text/html": [
       "<style>\n",
       ".list-inline {list-style: none; margin:0; padding: 0}\n",
       ".list-inline>li {display: inline-block}\n",
       ".list-inline>li:not(:last-child)::after {content: \"\\00b7\"; padding: 0 .5ex}\n",
       "</style>\n",
       "<ol class=list-inline><li>1.75498331932487</li><li>2.66521422034581</li><li>3.36709007706399</li></ol>\n"
      ],
      "text/latex": [
       "\\begin{enumerate*}\n",
       "\\item 1.75498331932487\n",
       "\\item 2.66521422034581\n",
       "\\item 3.36709007706399\n",
       "\\end{enumerate*}\n"
      ],
      "text/markdown": [
       "1. 1.75498331932487\n",
       "2. 2.66521422034581\n",
       "3. 3.36709007706399\n",
       "\n",
       "\n"
      ],
      "text/plain": [
       "[1] 1.754983 2.665214 3.367090"
      ]
     },
     "metadata": {},
     "output_type": "display_data"
    }
   ],
   "source": [
    "VaR_t(alpha, loc = 0, scale = 1, df = 1)\n",
    "ES_t(alpha, loc = 0, scale = 1, df = 1)\n",
    "VaR_t(alpha, loc = 0, scale = 1, df = 2)\n",
    "ES_t(alpha, loc = 0, scale = 1, df = 2)\n",
    "VaR_t(alpha, loc = 0, scale = 1, df = 20)\n",
    "ES_t(alpha, loc = 0, scale = 1, df = 20)\n",
    "VaR_t(alpha, loc = 0, scale = 1, df = Inf) # this is Normal distribution\n",
    "ES_t(alpha, loc = 0, scale = 1, df = Inf) # this is Normal distribution\n"
   ]
  },
  {
   "cell_type": "markdown",
   "id": "88ed5a65-c31d-49b8-b949-ca99201aceda",
   "metadata": {},
   "source": [
    "Observe how VaR and ES progressively converge as $\\alpha$ approaches 1 in the case of a Gaussian distribution."
   ]
  },
  {
   "cell_type": "code",
   "execution_count": 199,
   "id": "b4dd7d67-8406-45ac-80c9-1e5b9806df76",
   "metadata": {},
   "outputs": [
    {
     "data": {
      "text/html": [
       "<style>\n",
       ".list-inline {list-style: none; margin:0; padding: 0}\n",
       ".list-inline>li {display: inline-block}\n",
       ".list-inline>li:not(:last-child)::after {content: \"\\00b7\"; padding: 0 .5ex}\n",
       "</style>\n",
       "<ol class=list-inline><li>0.730235752917359</li><li>0.872855868876087</li><li>0.917775359565791</li><li>0.939506274567051</li><li>0.960611296995619</li></ol>\n"
      ],
      "text/latex": [
       "\\begin{enumerate*}\n",
       "\\item 0.730235752917359\n",
       "\\item 0.872855868876087\n",
       "\\item 0.917775359565791\n",
       "\\item 0.939506274567051\n",
       "\\item 0.960611296995619\n",
       "\\end{enumerate*}\n"
      ],
      "text/markdown": [
       "1. 0.730235752917359\n",
       "2. 0.872855868876087\n",
       "3. 0.917775359565791\n",
       "4. 0.939506274567051\n",
       "5. 0.960611296995619\n",
       "\n",
       "\n"
      ],
      "text/plain": [
       "[1] 0.7302358 0.8728559 0.9177754 0.9395063 0.9606113"
      ]
     },
     "metadata": {},
     "output_type": "display_data"
    }
   ],
   "source": [
    "alpha <- c(0.9, 0.99, 0.999, 0.9999, 0.999999)\n",
    "VaR_t(alpha, loc = 0, scale = 1, df = Inf) / ES_t(alpha, loc = 0, scale = 1, df = Inf)"
   ]
  },
  {
   "cell_type": "markdown",
   "id": "c2be0b4c-a5da-4426-9a7c-60b0b6b4397e",
   "metadata": {},
   "source": [
    "for a student's t-distribution  $\\frac{ES}{VaR}$ converge to  as alpha increases toward 1,"
   ]
  },
  {
   "cell_type": "code",
   "execution_count": 1,
   "id": "f43b8ec3-5279-40d0-b20b-33bdf0c6effb",
   "metadata": {},
   "outputs": [
    {
     "ename": "ERROR",
     "evalue": "Error in VaR_t(alpha, loc = 0, scale = 1, df = 4): could not find function \"VaR_t\"\n",
     "output_type": "error",
     "traceback": [
      "Error in VaR_t(alpha, loc = 0, scale = 1, df = 4): could not find function \"VaR_t\"\nTraceback:\n"
     ]
    }
   ],
   "source": [
    "VaR_t(alpha, loc = 0, scale = 1, df = 4) / ES_t(alpha, loc = 0, scale = 1, df = 4)"
   ]
  },
  {
   "cell_type": "code",
   "execution_count": null,
   "id": "0f476d84-d653-4f4e-bb59-6ea4a8a6dfde",
   "metadata": {},
   "outputs": [],
   "source": []
  }
 ],
 "metadata": {
  "kernelspec": {
   "display_name": "R",
   "language": "R",
   "name": "ir"
  },
  "language_info": {
   "codemirror_mode": "r",
   "file_extension": ".r",
   "mimetype": "text/x-r-source",
   "name": "R",
   "pygments_lexer": "r",
   "version": "4.4.2"
  }
 },
 "nbformat": 4,
 "nbformat_minor": 5
}
